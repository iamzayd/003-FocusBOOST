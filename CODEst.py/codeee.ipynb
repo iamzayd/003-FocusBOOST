{
 "cells": [
  {
   "cell_type": "code",
   "execution_count": 17,
   "metadata": {},
   "outputs": [
    {
     "name": "stdout",
     "output_type": "stream",
     "text": [
      "“If you think you’re too small to make a difference, try sleeping with a mosquito.” ―Dalai Lama\n"
     ]
    }
   ],
   "source": [
    "import requests\n",
    "from bs4 import BeautifulSoup\n",
    "import random\n",
    "\n",
    "def get_motivational_quote():\n",
    "    url = \"https://www.oberlo.com/blog/motivational-quotes\"\n",
    "    response = requests.get(url)\n",
    "    soup = BeautifulSoup(response.content, 'html.parser')\n",
    "    quotes = soup.find_all('span', {'style': 'font-weight: 400;'})\n",
    "    quote = random.choice(quotes).text.strip()\n",
    "    \n",
    "    if len(quote) > 36:\n",
    "        return quote\n",
    "    else:\n",
    "        return get_motivational_quote()\n",
    "\n",
    "print(get_motivational_quote())\n"
   ]
  },
  {
   "cell_type": "code",
   "execution_count": null,
   "metadata": {},
   "outputs": [],
   "source": []
  }
 ],
 "metadata": {
  "kernelspec": {
   "display_name": "base",
   "language": "python",
   "name": "python3"
  },
  "language_info": {
   "codemirror_mode": {
    "name": "ipython",
    "version": 3
   },
   "file_extension": ".py",
   "mimetype": "text/x-python",
   "name": "python",
   "nbconvert_exporter": "python",
   "pygments_lexer": "ipython3",
   "version": "3.9.7"
  },
  "orig_nbformat": 4
 },
 "nbformat": 4,
 "nbformat_minor": 2
}
